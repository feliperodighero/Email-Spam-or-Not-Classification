{
 "cells": [
  {
   "cell_type": "code",
   "execution_count": 1,
   "id": "8a41640f",
   "metadata": {
    "_cell_guid": "b1076dfc-b9ad-4769-8c92-a6c4dae69d19",
    "_uuid": "8f2839f25d086af736a60e9eeb907d3b93b6e0e5",
    "execution": {
     "iopub.execute_input": "2024-08-30T13:59:50.331302Z",
     "iopub.status.busy": "2024-08-30T13:59:50.330713Z",
     "iopub.status.idle": "2024-08-30T13:59:51.231306Z",
     "shell.execute_reply": "2024-08-30T13:59:51.229835Z"
    },
    "papermill": {
     "duration": 0.912758,
     "end_time": "2024-08-30T13:59:51.234004",
     "exception": false,
     "start_time": "2024-08-30T13:59:50.321246",
     "status": "completed"
    },
    "tags": []
   },
   "outputs": [
    {
     "name": "stdout",
     "output_type": "stream",
     "text": [
      "/kaggle/input/email-spam-or-not-classification/spam_dataset.csv\n"
     ]
    }
   ],
   "source": [
    "# This Python 3 environment comes with many helpful analytics libraries installed\n",
    "# It is defined by the kaggle/python Docker image: https://github.com/kaggle/docker-python\n",
    "# For example, here's several helpful packages to load\n",
    "\n",
    "import numpy as np # linear algebra\n",
    "import pandas as pd # data processing, CSV file I/O (e.g. pd.read_csv)\n",
    "\n",
    "# Input data files are available in the read-only \"../input/\" directory\n",
    "# For example, running this (by clicking run or pressing Shift+Enter) will list all files under the input directory\n",
    "\n",
    "import os\n",
    "for dirname, _, filenames in os.walk('/kaggle/input'):\n",
    "    for filename in filenames:\n",
    "        print(os.path.join(dirname, filename))\n",
    "\n",
    "# You can write up to 20GB to the current directory (/kaggle/working/) that gets preserved as output when you create a version using \"Save & Run All\" \n",
    "# You can also write temporary files to /kaggle/temp/, but they won't be saved outside of the current session"
   ]
  },
  {
   "cell_type": "markdown",
   "id": "b444049d",
   "metadata": {
    "papermill": {
     "duration": 0.006276,
     "end_time": "2024-08-30T13:59:51.247132",
     "exception": false,
     "start_time": "2024-08-30T13:59:51.240856",
     "status": "completed"
    },
    "tags": []
   },
   "source": [
    "# Config"
   ]
  },
  {
   "cell_type": "code",
   "execution_count": 2,
   "id": "f88d69a0",
   "metadata": {
    "execution": {
     "iopub.execute_input": "2024-08-30T13:59:51.262170Z",
     "iopub.status.busy": "2024-08-30T13:59:51.261587Z",
     "iopub.status.idle": "2024-08-30T13:59:54.328319Z",
     "shell.execute_reply": "2024-08-30T13:59:54.326677Z"
    },
    "papermill": {
     "duration": 3.078275,
     "end_time": "2024-08-30T13:59:54.331945",
     "exception": false,
     "start_time": "2024-08-30T13:59:51.253670",
     "status": "completed"
    },
    "tags": []
   },
   "outputs": [],
   "source": [
    "import matplotlib.pyplot as plt\n",
    "import pandas as pd\n",
    "import re\n",
    "import seaborn as sns\n",
    "\n",
    "from nltk.corpus import stopwords\n",
    "from nltk.stem import PorterStemmer\n",
    "from sklearn.feature_extraction.text import CountVectorizer\n",
    "from sklearn.model_selection import train_test_split\n",
    "from sklearn.linear_model import LogisticRegression\n",
    "from sklearn.metrics import accuracy_score, classification_report, confusion_matrix"
   ]
  },
  {
   "cell_type": "code",
   "execution_count": 3,
   "id": "b5605bea",
   "metadata": {
    "execution": {
     "iopub.execute_input": "2024-08-30T13:59:54.348240Z",
     "iopub.status.busy": "2024-08-30T13:59:54.347156Z",
     "iopub.status.idle": "2024-08-30T13:59:54.382740Z",
     "shell.execute_reply": "2024-08-30T13:59:54.381447Z"
    },
    "papermill": {
     "duration": 0.047725,
     "end_time": "2024-08-30T13:59:54.386539",
     "exception": false,
     "start_time": "2024-08-30T13:59:54.338814",
     "status": "completed"
    },
    "tags": []
   },
   "outputs": [],
   "source": [
    "data = pd.read_csv('/kaggle/input/email-spam-or-not-classification/spam_dataset.csv') "
   ]
  },
  {
   "cell_type": "markdown",
   "id": "dd0601a0",
   "metadata": {
    "papermill": {
     "duration": 0.00732,
     "end_time": "2024-08-30T13:59:54.403453",
     "exception": false,
     "start_time": "2024-08-30T13:59:54.396133",
     "status": "completed"
    },
    "tags": []
   },
   "source": [
    "# EDA"
   ]
  },
  {
   "cell_type": "code",
   "execution_count": 4,
   "id": "4a6c1e05",
   "metadata": {
    "execution": {
     "iopub.execute_input": "2024-08-30T13:59:54.419624Z",
     "iopub.status.busy": "2024-08-30T13:59:54.419057Z",
     "iopub.status.idle": "2024-08-30T13:59:54.445051Z",
     "shell.execute_reply": "2024-08-30T13:59:54.443691Z"
    },
    "papermill": {
     "duration": 0.037338,
     "end_time": "2024-08-30T13:59:54.447978",
     "exception": false,
     "start_time": "2024-08-30T13:59:54.410640",
     "status": "completed"
    },
    "tags": []
   },
   "outputs": [
    {
     "data": {
      "text/html": [
       "<div>\n",
       "<style scoped>\n",
       "    .dataframe tbody tr th:only-of-type {\n",
       "        vertical-align: middle;\n",
       "    }\n",
       "\n",
       "    .dataframe tbody tr th {\n",
       "        vertical-align: top;\n",
       "    }\n",
       "\n",
       "    .dataframe thead th {\n",
       "        text-align: right;\n",
       "    }\n",
       "</style>\n",
       "<table border=\"1\" class=\"dataframe\">\n",
       "  <thead>\n",
       "    <tr style=\"text-align: right;\">\n",
       "      <th></th>\n",
       "      <th>message_content</th>\n",
       "      <th>is_spam</th>\n",
       "    </tr>\n",
       "  </thead>\n",
       "  <tbody>\n",
       "    <tr>\n",
       "      <th>0</th>\n",
       "      <td>Hello Lonnie,\\n\\nJust wanted to touch base reg...</td>\n",
       "      <td>0</td>\n",
       "    </tr>\n",
       "    <tr>\n",
       "      <th>1</th>\n",
       "      <td>Congratulations, you've won a prize! Call us n...</td>\n",
       "      <td>1</td>\n",
       "    </tr>\n",
       "    <tr>\n",
       "      <th>2</th>\n",
       "      <td>You have been pre-approved for a credit card w...</td>\n",
       "      <td>1</td>\n",
       "    </tr>\n",
       "    <tr>\n",
       "      <th>3</th>\n",
       "      <td>Limited time offer, act now! Only a few spots ...</td>\n",
       "      <td>1</td>\n",
       "    </tr>\n",
       "    <tr>\n",
       "      <th>4</th>\n",
       "      <td>Your loan has been approved! Transfer funds to...</td>\n",
       "      <td>1</td>\n",
       "    </tr>\n",
       "  </tbody>\n",
       "</table>\n",
       "</div>"
      ],
      "text/plain": [
       "                                     message_content  is_spam\n",
       "0  Hello Lonnie,\\n\\nJust wanted to touch base reg...        0\n",
       "1  Congratulations, you've won a prize! Call us n...        1\n",
       "2  You have been pre-approved for a credit card w...        1\n",
       "3  Limited time offer, act now! Only a few spots ...        1\n",
       "4  Your loan has been approved! Transfer funds to...        1"
      ]
     },
     "execution_count": 4,
     "metadata": {},
     "output_type": "execute_result"
    }
   ],
   "source": [
    "data.head()"
   ]
  },
  {
   "cell_type": "code",
   "execution_count": 5,
   "id": "39f2761d",
   "metadata": {
    "execution": {
     "iopub.execute_input": "2024-08-30T13:59:54.464102Z",
     "iopub.status.busy": "2024-08-30T13:59:54.463544Z",
     "iopub.status.idle": "2024-08-30T13:59:54.494178Z",
     "shell.execute_reply": "2024-08-30T13:59:54.492874Z"
    },
    "papermill": {
     "duration": 0.042296,
     "end_time": "2024-08-30T13:59:54.497215",
     "exception": false,
     "start_time": "2024-08-30T13:59:54.454919",
     "status": "completed"
    },
    "tags": []
   },
   "outputs": [
    {
     "name": "stdout",
     "output_type": "stream",
     "text": [
      "<class 'pandas.core.frame.DataFrame'>\n",
      "RangeIndex: 1000 entries, 0 to 999\n",
      "Data columns (total 2 columns):\n",
      " #   Column           Non-Null Count  Dtype \n",
      "---  ------           --------------  ----- \n",
      " 0   message_content  1000 non-null   object\n",
      " 1   is_spam          1000 non-null   int64 \n",
      "dtypes: int64(1), object(1)\n",
      "memory usage: 15.8+ KB\n",
      "--------------------------------------------------\n"
     ]
    },
    {
     "data": {
      "text/plain": [
       "message_content    0\n",
       "is_spam            0\n",
       "dtype: int64"
      ]
     },
     "execution_count": 5,
     "metadata": {},
     "output_type": "execute_result"
    }
   ],
   "source": [
    "data.info()\n",
    "print('-' * 50)\n",
    "data.isnull().sum()"
   ]
  },
  {
   "cell_type": "code",
   "execution_count": 6,
   "id": "2a57b46c",
   "metadata": {
    "execution": {
     "iopub.execute_input": "2024-08-30T13:59:54.519598Z",
     "iopub.status.busy": "2024-08-30T13:59:54.518419Z",
     "iopub.status.idle": "2024-08-30T13:59:54.529915Z",
     "shell.execute_reply": "2024-08-30T13:59:54.528662Z"
    },
    "papermill": {
     "duration": 0.025714,
     "end_time": "2024-08-30T13:59:54.532858",
     "exception": false,
     "start_time": "2024-08-30T13:59:54.507144",
     "status": "completed"
    },
    "tags": []
   },
   "outputs": [
    {
     "data": {
      "text/plain": [
       "is_spam\n",
       "0    500\n",
       "1    500\n",
       "Name: count, dtype: int64"
      ]
     },
     "execution_count": 6,
     "metadata": {},
     "output_type": "execute_result"
    }
   ],
   "source": [
    "data['is_spam'].value_counts()"
   ]
  },
  {
   "cell_type": "code",
   "execution_count": 7,
   "id": "9d821a70",
   "metadata": {
    "execution": {
     "iopub.execute_input": "2024-08-30T13:59:54.554344Z",
     "iopub.status.busy": "2024-08-30T13:59:54.553696Z",
     "iopub.status.idle": "2024-08-30T13:59:54.865538Z",
     "shell.execute_reply": "2024-08-30T13:59:54.864169Z"
    },
    "papermill": {
     "duration": 0.325717,
     "end_time": "2024-08-30T13:59:54.868953",
     "exception": false,
     "start_time": "2024-08-30T13:59:54.543236",
     "status": "completed"
    },
    "tags": []
   },
   "outputs": [
    {
     "data": {
      "text/plain": [
       "Text(0.5, 1.0, 'Class Distribution')"
      ]
     },
     "execution_count": 7,
     "metadata": {},
     "output_type": "execute_result"
    },
    {
     "data": {
      "image/png": "[encoded data removed]",
      "text/plain": [
       "<Figure size 640x480 with 1 Axes>"
      ]
     },
     "metadata": {},
     "output_type": "display_data"
    }
   ],
   "source": [
    "colors = sns.color_palette('husl', 9)\n",
    "\n",
    "sns.countplot(x='is_spam', data=data, palette=colors)\n",
    "plt.title('Class Distribution')"
   ]
  },
  {
   "cell_type": "code",
   "execution_count": 8,
   "id": "3fadbce2",
   "metadata": {
    "execution": {
     "iopub.execute_input": "2024-08-30T13:59:54.892519Z",
     "iopub.status.busy": "2024-08-30T13:59:54.892007Z",
     "iopub.status.idle": "2024-08-30T13:59:55.580862Z",
     "shell.execute_reply": "2024-08-30T13:59:55.579390Z"
    },
    "papermill": {
     "duration": 0.703914,
     "end_time": "2024-08-30T13:59:55.583915",
     "exception": false,
     "start_time": "2024-08-30T13:59:54.880001",
     "status": "completed"
    },
    "tags": []
   },
   "outputs": [
    {
     "name": "stderr",
     "output_type": "stream",
     "text": [
      "/opt/conda/lib/python3.10/site-packages/seaborn/_oldcore.py:1119: FutureWarning: use_inf_as_na option is deprecated and will be removed in a future version. Convert inf values to NaN before operating instead.\n",
      "  with pd.option_context('mode.use_inf_as_na', True):\n",
      "/opt/conda/lib/python3.10/site-packages/seaborn/_oldcore.py:1119: FutureWarning: use_inf_as_na option is deprecated and will be removed in a future version. Convert inf values to NaN before operating instead.\n",
      "  with pd.option_context('mode.use_inf_as_na', True):\n"
     ]
    },
    {
     "data": {
      "text/plain": [
       "Text(0.5, 1.0, 'Message Length Distribution')"
      ]
     },
     "execution_count": 8,
     "metadata": {},
     "output_type": "execute_result"
    },
    {
     "data": {
      "image/png": "[encoded data removed]",
      "text/plain": [
       "<Figure size 640x480 with 1 Axes>"
      ]
     },
     "metadata": {},
     "output_type": "display_data"
    }
   ],
   "source": [
    "data['message_length'] = data['message_content'].apply(len)\n",
    "sns.histplot(data[data['is_spam'] == 0]['message_length'], bins=30, color='blue', label='Not Spam')\n",
    "sns.histplot(data[data['is_spam'] == 1]['message_length'], bins=30, color='red', label='Spam')\n",
    "plt.legend()\n",
    "plt.title('Message Length Distribution')"
   ]
  },
  {
   "cell_type": "code",
   "execution_count": 9,
   "id": "37cef2e2",
   "metadata": {
    "execution": {
     "iopub.execute_input": "2024-08-30T13:59:55.604178Z",
     "iopub.status.busy": "2024-08-30T13:59:55.603728Z",
     "iopub.status.idle": "2024-08-30T13:59:56.950364Z",
     "shell.execute_reply": "2024-08-30T13:59:56.949111Z"
    },
    "papermill": {
     "duration": 1.360593,
     "end_time": "2024-08-30T13:59:56.953573",
     "exception": false,
     "start_time": "2024-08-30T13:59:55.592980",
     "status": "completed"
    },
    "tags": []
   },
   "outputs": [],
   "source": [
    "stop_words = set(stopwords.words('english'))\n",
    "stemmer = PorterStemmer()\n",
    "\n",
    "def preprocess_text(text: str) -> str:\n",
    "    # Convert words to lowercarse\n",
    "    text = text.lower()\n",
    "    # Remove special characters\n",
    "    text = re.sub(r'\\W',' ', text)\n",
    "    # Remove numbers\n",
    "    text = re.sub(r'\\d+', '', text)\n",
    "    # Remove short words (less than 3 letters)\n",
    "    text = re.sub(r'\\b\\w{1,2}\\b', '', text)\n",
    "    # Remove stopwords\n",
    "    text = ' '.join(word for word in text.split() if word not in stop_words)\n",
    "    # Stemming\n",
    "    text = ' '.join(stemmer.stem(word) for word in text.split())\n",
    "    \n",
    "    return text\n",
    "        \n",
    "    \n",
    "data['cleaned_message'] = data['message_content'].apply(preprocess_text)"
   ]
  },
  {
   "cell_type": "code",
   "execution_count": 10,
   "id": "9ff3efd0",
   "metadata": {
    "execution": {
     "iopub.execute_input": "2024-08-30T13:59:56.973354Z",
     "iopub.status.busy": "2024-08-30T13:59:56.972435Z",
     "iopub.status.idle": "2024-08-30T13:59:56.985676Z",
     "shell.execute_reply": "2024-08-30T13:59:56.984491Z"
    },
    "papermill": {
     "duration": 0.026253,
     "end_time": "2024-08-30T13:59:56.988603",
     "exception": false,
     "start_time": "2024-08-30T13:59:56.962350",
     "status": "completed"
    },
    "tags": []
   },
   "outputs": [
    {
     "data": {
      "text/html": [
       "<div>\n",
       "<style scoped>\n",
       "    .dataframe tbody tr th:only-of-type {\n",
       "        vertical-align: middle;\n",
       "    }\n",
       "\n",
       "    .dataframe tbody tr th {\n",
       "        vertical-align: top;\n",
       "    }\n",
       "\n",
       "    .dataframe thead th {\n",
       "        text-align: right;\n",
       "    }\n",
       "</style>\n",
       "<table border=\"1\" class=\"dataframe\">\n",
       "  <thead>\n",
       "    <tr style=\"text-align: right;\">\n",
       "      <th></th>\n",
       "      <th>message_content</th>\n",
       "      <th>cleaned_message</th>\n",
       "    </tr>\n",
       "  </thead>\n",
       "  <tbody>\n",
       "    <tr>\n",
       "      <th>0</th>\n",
       "      <td>Hello Lonnie,\\n\\nJust wanted to touch base reg...</td>\n",
       "      <td>hello lonni want touch base regard project nex...</td>\n",
       "    </tr>\n",
       "    <tr>\n",
       "      <th>1</th>\n",
       "      <td>Congratulations, you've won a prize! Call us n...</td>\n",
       "      <td>congratul prize call claim account select spec...</td>\n",
       "    </tr>\n",
       "    <tr>\n",
       "      <th>2</th>\n",
       "      <td>You have been pre-approved for a credit card w...</td>\n",
       "      <td>pre approv credit card high limit special offe...</td>\n",
       "    </tr>\n",
       "    <tr>\n",
       "      <th>3</th>\n",
       "      <td>Limited time offer, act now! Only a few spots ...</td>\n",
       "      <td>limit time offer act spot left immedi action r...</td>\n",
       "    </tr>\n",
       "    <tr>\n",
       "      <th>4</th>\n",
       "      <td>Your loan has been approved! Transfer funds to...</td>\n",
       "      <td>loan approv transfer fund today hurri lifetim ...</td>\n",
       "    </tr>\n",
       "  </tbody>\n",
       "</table>\n",
       "</div>"
      ],
      "text/plain": [
       "                                     message_content  \\\n",
       "0  Hello Lonnie,\\n\\nJust wanted to touch base reg...   \n",
       "1  Congratulations, you've won a prize! Call us n...   \n",
       "2  You have been pre-approved for a credit card w...   \n",
       "3  Limited time offer, act now! Only a few spots ...   \n",
       "4  Your loan has been approved! Transfer funds to...   \n",
       "\n",
       "                                     cleaned_message  \n",
       "0  hello lonni want touch base regard project nex...  \n",
       "1  congratul prize call claim account select spec...  \n",
       "2  pre approv credit card high limit special offe...  \n",
       "3  limit time offer act spot left immedi action r...  \n",
       "4  loan approv transfer fund today hurri lifetim ...  "
      ]
     },
     "execution_count": 10,
     "metadata": {},
     "output_type": "execute_result"
    }
   ],
   "source": [
    "data[['message_content', 'cleaned_message']].head()"
   ]
  },
  {
   "cell_type": "code",
   "execution_count": 11,
   "id": "bc2f0435",
   "metadata": {
    "execution": {
     "iopub.execute_input": "2024-08-30T13:59:57.008235Z",
     "iopub.status.busy": "2024-08-30T13:59:57.007777Z",
     "iopub.status.idle": "2024-08-30T13:59:57.513848Z",
     "shell.execute_reply": "2024-08-30T13:59:57.512435Z"
    },
    "papermill": {
     "duration": 0.519483,
     "end_time": "2024-08-30T13:59:57.517056",
     "exception": false,
     "start_time": "2024-08-30T13:59:56.997573",
     "status": "completed"
    },
    "tags": []
   },
   "outputs": [
    {
     "name": "stderr",
     "output_type": "stream",
     "text": [
      "/opt/conda/lib/python3.10/site-packages/seaborn/_oldcore.py:1119: FutureWarning: use_inf_as_na option is deprecated and will be removed in a future version. Convert inf values to NaN before operating instead.\n",
      "  with pd.option_context('mode.use_inf_as_na', True):\n",
      "/opt/conda/lib/python3.10/site-packages/seaborn/_oldcore.py:1119: FutureWarning: use_inf_as_na option is deprecated and will be removed in a future version. Convert inf values to NaN before operating instead.\n",
      "  with pd.option_context('mode.use_inf_as_na', True):\n"
     ]
    },
    {
     "data": {
      "text/plain": [
       "Text(0.5, 1.0, 'Message length distribution after NORMALIZATION')"
      ]
     },
     "execution_count": 11,
     "metadata": {},
     "output_type": "execute_result"
    },
    {
     "data": {
      "image/png": "[encoded data removed]",
      "text/plain": [
       "<Figure size 640x480 with 1 Axes>"
      ]
     },
     "metadata": {},
     "output_type": "display_data"
    }
   ],
   "source": [
    "data['message_length'] = data['cleaned_message'].apply(len)\n",
    "sns.histplot(data[data['is_spam'] == 0]['message_length'], bins=30, color='green', label='Not Spam')\n",
    "sns.histplot(data[data['is_spam'] == 1]['message_length'], bins=30, color='purple', label='Spam')\n",
    "plt.legend()\n",
    "plt.title('Message length distribution after NORMALIZATION')"
   ]
  },
  {
   "cell_type": "markdown",
   "id": "7dd18611",
   "metadata": {
    "papermill": {
     "duration": 0.009484,
     "end_time": "2024-08-30T13:59:57.536243",
     "exception": false,
     "start_time": "2024-08-30T13:59:57.526759",
     "status": "completed"
    },
    "tags": []
   },
   "source": [
    "# Training"
   ]
  },
  {
   "cell_type": "code",
   "execution_count": 12,
   "id": "1f181cd3",
   "metadata": {
    "execution": {
     "iopub.execute_input": "2024-08-30T13:59:57.557833Z",
     "iopub.status.busy": "2024-08-30T13:59:57.556877Z",
     "iopub.status.idle": "2024-08-30T13:59:57.625240Z",
     "shell.execute_reply": "2024-08-30T13:59:57.623951Z"
    },
    "papermill": {
     "duration": 0.082373,
     "end_time": "2024-08-30T13:59:57.628133",
     "exception": false,
     "start_time": "2024-08-30T13:59:57.545760",
     "status": "completed"
    },
    "tags": []
   },
   "outputs": [],
   "source": [
    "vectorizer = CountVectorizer()\n",
    "X = vectorizer.fit_transform(data['cleaned_message']).toarray()\n",
    "y = data['is_spam'].values"
   ]
  },
  {
   "cell_type": "code",
   "execution_count": 13,
   "id": "949656b2",
   "metadata": {
    "execution": {
     "iopub.execute_input": "2024-08-30T13:59:57.649607Z",
     "iopub.status.busy": "2024-08-30T13:59:57.649049Z",
     "iopub.status.idle": "2024-08-30T13:59:57.664235Z",
     "shell.execute_reply": "2024-08-30T13:59:57.662900Z"
    },
    "papermill": {
     "duration": 0.029501,
     "end_time": "2024-08-30T13:59:57.667220",
     "exception": false,
     "start_time": "2024-08-30T13:59:57.637719",
     "status": "completed"
    },
    "tags": []
   },
   "outputs": [],
   "source": [
    "X_train, X_test, y_train, y_test = train_test_split(X, y, test_size=0.2, random_state=42)"
   ]
  },
  {
   "cell_type": "code",
   "execution_count": 14,
   "id": "2fdd2803",
   "metadata": {
    "execution": {
     "iopub.execute_input": "2024-08-30T13:59:57.688408Z",
     "iopub.status.busy": "2024-08-30T13:59:57.687942Z",
     "iopub.status.idle": "2024-08-30T13:59:57.763374Z",
     "shell.execute_reply": "2024-08-30T13:59:57.761781Z"
    },
    "papermill": {
     "duration": 0.091036,
     "end_time": "2024-08-30T13:59:57.767936",
     "exception": false,
     "start_time": "2024-08-30T13:59:57.676900",
     "status": "completed"
    },
    "tags": []
   },
   "outputs": [
    {
     "name": "stdout",
     "output_type": "stream",
     "text": [
      "Accuracy: 1.00\n",
      "              precision    recall  f1-score   support\n",
      "\n",
      "           0       1.00      1.00      1.00        99\n",
      "           1       1.00      1.00      1.00       101\n",
      "\n",
      "    accuracy                           1.00       200\n",
      "   macro avg       1.00      1.00      1.00       200\n",
      "weighted avg       1.00      1.00      1.00       200\n",
      "\n"
     ]
    }
   ],
   "source": [
    "model = LogisticRegression()\n",
    "model.fit(X_train, y_train)\n",
    "\n",
    "y_pred = model.predict(X_test)\n",
    "\n",
    "print(f'Accuracy: {accuracy_score(y_test, y_pred):.2f}')\n",
    "print(classification_report(y_test, y_pred))"
   ]
  },
  {
   "cell_type": "code",
   "execution_count": 15,
   "id": "736180fb",
   "metadata": {
    "execution": {
     "iopub.execute_input": "2024-08-30T13:59:57.811860Z",
     "iopub.status.busy": "2024-08-30T13:59:57.810200Z",
     "iopub.status.idle": "2024-08-30T13:59:58.161493Z",
     "shell.execute_reply": "2024-08-30T13:59:58.160293Z"
    },
    "papermill": {
     "duration": 0.376431,
     "end_time": "2024-08-30T13:59:58.164126",
     "exception": false,
     "start_time": "2024-08-30T13:59:57.787695",
     "status": "completed"
    },
    "tags": []
   },
   "outputs": [
    {
     "data": {
      "image/png": "[encoded data removed]",
      "text/plain": [
       "<Figure size 1000x700 with 2 Axes>"
      ]
     },
     "metadata": {},
     "output_type": "display_data"
    }
   ],
   "source": [
    "cm = confusion_matrix(y_test, y_pred)\n",
    "\n",
    "plt.figure(figsize=(10, 7))\n",
    "sns.heatmap(cm, annot=True, fmt='d', cmap='Blues', \n",
    "            xticklabels=['Not Spam', 'Spam'],\n",
    "            yticklabels=['Not Spame', 'Spam'])\n",
    "plt.xlabel('Predicted Label')\n",
    "plt.ylabel('True Label')\n",
    "plt.title('Confusion Matrix')\n",
    "plt.show()"
   ]
  }
 ],
 "metadata": {
  "kaggle": {
   "accelerator": "none",
   "dataSources": [
    {
     "datasetId": 5467606,
     "sourceId": 9065758,
     "sourceType": "datasetVersion"
    }
   ],
   "dockerImageVersionId": 30761,
   "isGpuEnabled": false,
   "isInternetEnabled": true,
   "language": "python",
   "sourceType": "notebook"
  },
  "kernelspec": {
   "display_name": "Python 3",
   "language": "python",
   "name": "python3"
  },
  "language_info": {
   "codemirror_mode": {
    "name": "ipython",
    "version": 3
   },
   "file_extension": ".py",
   "mimetype": "text/x-python",
   "name": "python",
   "nbconvert_exporter": "python",
   "pygments_lexer": "ipython3",
   "version": "3.10.14"
  },
  "papermill": {
   "default_parameters": {},
   "duration": 12.150438,
   "end_time": "2024-08-30T13:59:58.897902",
   "environment_variables": {},
   "exception": null,
   "input_path": "__notebook__.ipynb",
   "output_path": "__notebook__.ipynb",
   "parameters": {},
   "start_time": "2024-08-30T13:59:46.747464",
   "version": "2.6.0"
  }
 },
 "nbformat": 4,
 "nbformat_minor": 5
}
